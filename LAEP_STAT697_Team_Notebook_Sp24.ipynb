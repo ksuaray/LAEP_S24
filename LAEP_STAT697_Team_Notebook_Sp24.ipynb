{
  "nbformat": 4,
  "nbformat_minor": 0,
  "metadata": {
    "colab": {
      "provenance": [],
      "toc_visible": true,
      "authorship_tag": "ABX9TyP5S9dq1dWCrUEAVlFzga0+",
      "include_colab_link": true
    },
    "kernelspec": {
      "name": "python3",
      "display_name": "Python 3"
    },
    "language_info": {
      "name": "python"
    }
  },
  "cells": [
    {
      "cell_type": "markdown",
      "metadata": {
        "id": "view-in-github",
        "colab_type": "text"
      },
      "source": [
        "<a href=\"https://colab.research.google.com/github/ksuaray/LAEP_S24/blob/main/LAEP_STAT697_Team_Notebook_Sp24.ipynb\" target=\"_parent\"><img src=\"https://colab.research.google.com/assets/colab-badge.svg\" alt=\"Open In Colab\"/></a>"
      ]
    },
    {
      "cell_type": "markdown",
      "source": [
        "**STAT 697 + LAEP SPRING 2024**\n",
        "\n",
        "**Applied Data Science and Machine Learning**\n",
        "\n",
        "MEETING TIME: Thursdays: 10-11:30am on Zoom: https://csulb.zoom.us/j/88342007306?from=addon  \n",
        "\n",
        "  \n",
        "\n",
        "OFFICE HOURS: M3:30-4 and W 2:30-4, and both days 6:45-7:15pm or by Appointment  \n",
        "In person in FO3-216\n",
        "  \n",
        "\n",
        "PROFESSOR: Dr. Kagba N. Suaray  \n",
        "\n",
        "EMAIL: Kagba.Suaray@csulb.edu  \n",
        "\n"
      ],
      "metadata": {
        "id": "7w2Ooy7RKd0m"
      }
    },
    {
      "cell_type": "markdown",
      "source": [
        "\n",
        "This course is designed to build on a foundational understanding of coding in Python, incorporating code with data science content to support teaching and curriculum for current and future lower division courses at CSULB department of Mathematics and Statistics. As such, it will be a hybrid course, with mini-lectures on topics relevant to the course objective, and labs that facilitate demonstration and practice of these topics and techniques in Python. The course assumes little to no background in Python programming, and a level of proficiency in algebra, graphing, calculus, linear algebra and mathematical statistics. We’ll work together on core concepts, but each student will have a different focus to their work.\n"
      ],
      "metadata": {
        "id": "iBK9JknNK0KA"
      }
    },
    {
      "cell_type": "markdown",
      "source": [
        "Our tasks for the semester are  \n",
        "\n",
        " - **Creating a Student Success Dashboard**: Alvaro, Tyler, Nicholas  \n",
        "\n",
        " - **Creating a Dash application for STAT 108 statistical analysis**: Alvaro, Trisha, Daniel\n",
        "\n",
        " - **Creating curriculum examples for the new Calculus for Machine Learning and Introduction to Data Science Courses**: Ahmad, Nicholas, Trisha\n",
        "\n",
        " - **Support Washington Prep Sports Analytics Club**: Daniel\n",
        "\n",
        "*The 3rd person mentioned on each project will play a supporting role*"
      ],
      "metadata": {
        "id": "Zk2Is13HK3Cd"
      }
    },
    {
      "cell_type": "markdown",
      "source": [
        "##**Data Science Consulting**"
      ],
      "metadata": {
        "id": "9g0-2zF4gK0N"
      }
    },
    {
      "cell_type": "markdown",
      "source": [
        "Chat GPT gives a pretty thorough overview of what the consulting process entails, take some time to read it thru:"
      ],
      "metadata": {
        "id": "uSCj4uFNgZc-"
      }
    },
    {
      "cell_type": "markdown",
      "source": [
        "A data science consulting meeting typically involves discussing and addressing the data-related needs and challenges of a client or stakeholder. These meetings can vary widely depending on the specific context, objectives, and stage of the project. However, here are some common components and considerations for such meetings:\n",
        "\n",
        "1. **Understanding Client Needs**: The first step is to understand the client's objectives, challenges, and requirements. This might involve discussing their business goals, current processes, pain points, and any specific questions they have about their data.\n",
        "\n",
        "2. **Scope Definition**: Clarify the scope of the project or engagement. What are the deliverables? What are the timelines? What resources are available? It's important to establish clear expectations from both sides to ensure alignment.\n",
        "\n",
        "3. **Data Exploration and Assessment**: Assess the client's data assets. Understand the quality, quantity, and relevance of the available data. Discuss any data collection processes, data sources, data formats, and potential data gaps.\n",
        "\n",
        "4. **Problem Formulation**: Work with the client to define the problem or question that needs to be addressed. This involves translating business problems into data science problems, identifying key metrics, and understanding success criteria.\n",
        "\n",
        "5. **Methodology and Approach**: Propose an appropriate methodology and approach for addressing the problem. Discuss the techniques, algorithms, and tools that will be used, as well as any assumptions or limitations.\n",
        "\n",
        "6. **Risk Assessment and Mitigation**: Identify potential risks and challenges associated with the project and discuss strategies for mitigating them. This might include issues related to data quality, privacy, scalability, or model interpretability.\n",
        "\n",
        "7. **Communication and Reporting**: Agree on communication protocols and reporting mechanisms. Discuss how progress will be tracked, how results will be communicated, and how feedback will be incorporated throughout the project lifecycle.\n",
        "\n",
        "8. **Collaboration and Stakeholder Engagement**: Emphasize the importance of collaboration and stakeholder engagement. Data science projects often require input and buy-in from various stakeholders across the organization.\n",
        "\n",
        "9. **Ethical and Legal Considerations**: Discuss any ethical or legal considerations related to the data and the proposed analysis. Ensure compliance with relevant regulations, such as data privacy laws.\n",
        "\n",
        "10. **Documentation and Knowledge Transfer**: Plan for documentation and knowledge transfer to ensure that insights and findings are captured and can be leveraged by the client beyond the duration of the engagement.\n",
        "\n",
        "To prepare for a data science consulting meeting, a data scientist should:\n",
        "\n",
        "- Familiarize themselves with the client's industry, business model, and challenges.\n",
        "- Review any available background materials, data, or documentation provided by the client.\n",
        "- Prepare questions to clarify requirements, objectives, and expectations.\n",
        "- Identify potential approaches and methodologies that might be relevant to the problem at hand.\n",
        "- Anticipate potential challenges or limitations and think about how to address them.\n",
        "- Be ready to communicate complex technical concepts in a clear and understandable manner to non-technical stakeholders.\n",
        "- Bring relevant examples or case studies to illustrate similar projects or solutions.\n",
        "- Ensure that necessary tools and software are set up and ready for demonstrations or analyses.\n",
        "\n",
        "Overall, the goal of a data science consulting meeting is to establish a shared understanding of the problem, define a path forward, and build trust and confidence in the data science process and outcomes. Effective communication, collaboration, and alignment are key to a successful engagement."
      ],
      "metadata": {
        "id": "4FIz2wK3gPkd"
      }
    },
    {
      "cell_type": "markdown",
      "source": [
        "#**February 22, 2024 Consulting Meeting**"
      ],
      "metadata": {
        "id": "sfJp7XYYEUV_"
      }
    },
    {
      "cell_type": "markdown",
      "source": [
        "**AGENDA**\n",
        "\n",
        "\n",
        "\n",
        "1.   **Introductions**\n",
        "\n",
        "\n",
        "*   STAT 108 Team\n",
        "\n",
        "*   STAT 697 + LAEP Research Team (Name, Major, year at CSULB and which project you are working on)\n",
        "\n",
        "\n",
        "2.   **STAT 108 Team: Overview of STAT 108**\n",
        "\n",
        "*   Who takes the course?\n",
        "\n",
        "  - First time freshmen from CHHS and COB\n",
        "\n",
        "  - 50 min lecture + 2hr lab\n",
        "\n",
        "  - Coordinated\n",
        "\n",
        "  - About 1000 students per year\n",
        "\n",
        "  - 6 Fall + 2 Spring sections\n",
        "\n",
        "  - Grading: WebAssign HW; Lecture Attendance; Activity; 3 Projects (SPSS); Midterms; Finals\n",
        "\n",
        "*   What does the course cover?\n",
        "\n",
        "  - Descriptive Statistics\n",
        "\n",
        "  - Statistical Inference\n",
        "\n",
        "*   What tools do students currently use for statistical analysis?\n",
        "\n",
        "  - TI Calculators for exams\n",
        "  - Projects SPSS\n",
        "  - SALT for HW\n",
        "\n",
        "*   Do you currently use, or would it be useful to have predictive models for student success based on historical data?\n",
        "  - Question: Is **attendance** predictive of semester performance?\n",
        "  - Useful to have checkpoints throughout semester that incorporates attendance.\n",
        "  - Use recent (preferably post-covid remote learning) data\n",
        "  - Investigate possibility of pre-covid data, are there differences? NOTE: Quizzes replaced with projects; pre-covid there was no activity section\n",
        "  - Other variables could be **units taken**, **employment status**\n",
        "  - Perhaps include **ALEKS** pretest data if available (although sometimes this data may not be reliable due to honor system not honored) and **M1 - M4** status\n",
        "  - Consider **STAT 90** enrollment status\n",
        "\n",
        "*   Any other information you think would be useful for the research team.\n",
        "  - For Data Analysis Dashboard do everything current tools do\n",
        "  - For student success Dashboard\n",
        "     - Have they taken stats before?\n",
        "     - How many units currently taken\n",
        "     - Poll everywhere\n",
        "  - How do we envision STAT 108 instructors using the dashboard?\n",
        "     - Show students model results as a carrot and as a stick\n",
        "     - Even on day 1 to show them what data from thousands of students shows\n",
        "     - Think about making it user friendly at every step\n",
        "     - Integrate dashboard with data available on CANVAS\n",
        "     - Provide instructions/encouragement based on model predictions\n",
        "\n",
        "3.   **Questions from the Research team**\n",
        "  - Python instead of SPSS?\n",
        "  - Given course is coordinated, for Student Success dashboard, would another metric be useful besides final grade? Yes! Exam scores or course grade at milestones before the end of semester.\n",
        "  - Does STAT 108 have mandatory tutoring based on exam performance? Yes! Maintenance component... but up to half of them **do not** go to required tutoring. But that's too late. Can we get an early alert?\n",
        "  - Can we get copy of sample syllabi?\n",
        "  - End goals: Automatically kick an email to professors of a \"watch list\" whenever new information is input\n",
        "  - Long term goal of students accessing the dashboard themselves.\n",
        "\n",
        "4.  **Short demo of Jupyter Notebook for SPSS Assignments**\n",
        "\n",
        "\n"
      ],
      "metadata": {
        "id": "J7c_RzsAEfn7"
      }
    }
  ]
}